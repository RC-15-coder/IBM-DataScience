{
  "metadata": {
    "kernelspec": {
      "name": "python",
      "display_name": "Python (Pyodide)",
      "language": "python"
    },
    "language_info": {
      "codemirror_mode": {
        "name": "python",
        "version": 3
      },
      "file_extension": ".py",
      "mimetype": "text/x-python",
      "name": "python",
      "nbconvert_exporter": "python",
      "pygments_lexer": "ipython3",
      "version": "3.8"
    }
  },
  "nbformat_minor": 5,
  "nbformat": 4,
  "cells": [
    {
      "id": "aff92d67-03f4-4a2f-ad0c-243847d5416b",
      "cell_type": "markdown",
      "source": "# Data Science Tools and Ecosystem\n",
      "metadata": {}
    },
    {
      "id": "5c5b2445-0096-4144-b132-22af880dd06a",
      "cell_type": "markdown",
      "source": "In this notebook, Data Science Tools and Ecosystem are summarized.\n",
      "metadata": {}
    },
    {
      "id": "b413c8c2-c2c1-4409-a65a-4586a70d9afc",
      "cell_type": "markdown",
      "source": "**Objectives:**\n- List popular languages for Data Science\n- Identify widely used libraries\n- Demonstrate simple arithmetic in Python\n- Share a notebook via GitHub\n",
      "metadata": {}
    },
    {
      "id": "a0685851-4fef-49a3-9145-2753697d66b3",
      "cell_type": "markdown",
      "source": "Some of the popular languages that Data Scientists use are:\n1. Python\n2. R\n3. SQL\n",
      "metadata": {}
    },
    {
      "id": "79a5d491-c14d-455e-bc2d-717446d9d9c6",
      "cell_type": "markdown",
      "source": "Some of the commonly used libraries used by Data Scientists include:\n1. Pandas\n2. scikit-learn\n3. Matplotlib\n",
      "metadata": {}
    },
    {
      "id": "09d102b3-23da-4d96-9eed-6a39a5d7c940",
      "cell_type": "markdown",
      "source": "| Data Science Tools |\n|--------------------|\n| JupyterLab         |\n| RStudio            |\n| VS Code            |\n",
      "metadata": {}
    },
    {
      "id": "92591fc2-a705-404a-bb2b-cf402174e089",
      "cell_type": "markdown",
      "source": "### Below are a few examples of evaluating arithmetic expressions in Python.\n",
      "metadata": {}
    },
    {
      "id": "76d9301a-9d2f-4c00-83c8-3f895a57f2f6",
      "cell_type": "code",
      "source": "# This is a simple arithmetic expression to multiply then add integers\n(3 * 4) + 5\n",
      "metadata": {
        "trusted": true
      },
      "outputs": [
        {
          "execution_count": 1,
          "output_type": "execute_result",
          "data": {
            "text/plain": "17"
          },
          "metadata": {}
        }
      ],
      "execution_count": 1
    },
    {
      "id": "acc6a402-852f-4161-b4ad-37709e88bc9b",
      "cell_type": "code",
      "source": "# This will convert 200 minutes to hours by dividing by 60\n200 / 60\n",
      "metadata": {
        "trusted": true
      },
      "outputs": [
        {
          "execution_count": 2,
          "output_type": "execute_result",
          "data": {
            "text/plain": "3.3333333333333335"
          },
          "metadata": {}
        }
      ],
      "execution_count": 2
    },
    {
      "id": "3f23ed93-4f25-401e-809b-6f3008831008",
      "cell_type": "markdown",
      "source": "## Author\nRaghav Chandna",
      "metadata": {}
    },
    {
      "id": "7e3a96d0-40ec-4b32-a9d1-3ca907b111f4",
      "cell_type": "code",
      "source": "",
      "metadata": {
        "trusted": true
      },
      "outputs": [],
      "execution_count": null
    }
  ]
}